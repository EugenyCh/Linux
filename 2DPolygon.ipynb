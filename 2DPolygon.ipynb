{
 "cells": [
  {
   "cell_type": "code",
   "execution_count": 1,
   "metadata": {},
   "outputs": [],
   "source": [
    "import numpy as np"
   ]
  },
  {
   "cell_type": "code",
   "execution_count": 2,
   "metadata": {},
   "outputs": [],
   "source": [
    "G = np.arange(3, 7)"
   ]
  },
  {
   "cell_type": "code",
   "execution_count": 3,
   "metadata": {},
   "outputs": [],
   "source": [
    "V = []"
   ]
  },
  {
   "cell_type": "code",
   "execution_count": 4,
   "metadata": {},
   "outputs": [],
   "source": [
    "for g in G:\n",
    "    a = 2 * np.pi / g\n",
    "    V.append([(np.cos(a * i), np.sin(a * i)) for i in range(g)])"
   ]
  },
  {
   "cell_type": "code",
   "execution_count": 5,
   "metadata": {},
   "outputs": [
    {
     "data": {
      "text/plain": [
       "[[(1.0, 0.0),\n",
       "  (-0.4999999999999998, 0.8660254037844387),\n",
       "  (-0.5000000000000004, -0.8660254037844384)],\n",
       " [(1.0, 0.0),\n",
       "  (6.123233995736766e-17, 1.0),\n",
       "  (-1.0, 1.2246467991473532e-16),\n",
       "  (-1.8369701987210297e-16, -1.0)],\n",
       " [(1.0, 0.0),\n",
       "  (0.30901699437494745, 0.9510565162951535),\n",
       "  (-0.8090169943749473, 0.5877852522924732),\n",
       "  (-0.8090169943749476, -0.587785252292473),\n",
       "  (0.30901699437494723, -0.9510565162951536)],\n",
       " [(1.0, 0.0),\n",
       "  (0.5000000000000001, 0.8660254037844386),\n",
       "  (-0.4999999999999998, 0.8660254037844387),\n",
       "  (-1.0, 1.2246467991473532e-16),\n",
       "  (-0.5000000000000004, -0.8660254037844384),\n",
       "  (0.49999999999999933, -0.866025403784439)]]"
      ]
     },
     "execution_count": 5,
     "metadata": {},
     "output_type": "execute_result"
    }
   ],
   "source": [
    "V"
   ]
  },
  {
   "cell_type": "code",
   "execution_count": null,
   "metadata": {},
   "outputs": [],
   "source": []
  }
 ],
 "metadata": {
  "kernelspec": {
   "display_name": "Python 3",
   "language": "python",
   "name": "python3"
  },
  "language_info": {
   "codemirror_mode": {
    "name": "ipython",
    "version": 3
   },
   "file_extension": ".py",
   "mimetype": "text/x-python",
   "name": "python",
   "nbconvert_exporter": "python",
   "pygments_lexer": "ipython3",
   "version": "3.7.0"
  }
 },
 "nbformat": 4,
 "nbformat_minor": 2
}
